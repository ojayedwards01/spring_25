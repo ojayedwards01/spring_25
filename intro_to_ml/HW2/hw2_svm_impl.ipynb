{
  "cells": [
    {
      "cell_type": "markdown",
      "id": "42b2dc77",
      "metadata": {},
      "source": [
        "### Question 7"
      ]
    },
    {
      "cell_type": "code",
      "execution_count": 2,
      "id": "f1612d37-752b-4c16-ac81-e0414b9da4df",
      "metadata": {
        "id": "f1612d37-752b-4c16-ac81-e0414b9da4df"
      },
      "outputs": [],
      "source": [
        "# !pip install ucimlrepo\n",
        "# !pip install cvxpy\n",
        "# !pip install clarabel\n"
      ]
    },
    {
      "cell_type": "code",
      "execution_count": 3,
      "id": "e7917f76-cc3d-452c-a491-adb508837250",
      "metadata": {
        "id": "e7917f76-cc3d-452c-a491-adb508837250"
      },
      "outputs": [],
      "source": [
        "from ucimlrepo import fetch_ucirepo\n",
        "import pandas as pd\n",
        "import numpy as np\n",
        "import cvxpy as cp\n",
        "from matplotlib import pyplot as plt"
      ]
    },
    {
      "cell_type": "code",
      "execution_count": 4,
      "id": "4f0246b0-c964-4538-9890-73f8b580b0b4",
      "metadata": {
        "id": "4f0246b0-c964-4538-9890-73f8b580b0b4",
        "tags": []
      },
      "outputs": [
        {
          "name": "stdout",
          "output_type": "stream",
          "text": [
            "Number of samples in all full dataset is: 303.\n",
            "Number of rows with missing values in features: 4\n",
            "Shapes: X_train: (216, 22), y_train: (216,), X_test: (83, 22), y_test: (83,)\n"
          ]
        }
      ],
      "source": [
        "# !! DO NOT MODIFY THIS CELL !!\n",
        "\n",
        "# Download and preprocess the dataset.\n",
        "# fetch dataset\n",
        "heart_disease = fetch_ucirepo(id=45)\n",
        "X = heart_disease.data.features\n",
        "# Convert categorical features into one-hot encode\n",
        "categorical_features = ['cp','thal','slope','restecg']\n",
        "X = pd.get_dummies(X, columns=categorical_features)\n",
        "\n",
        "y = heart_disease.data.targets\n",
        "print(f\"Number of samples in all full dataset is: {len(X)}.\")\n",
        "\n",
        "# Check if our train set has missing value\n",
        "na_in_features = X.isna().any(axis=1).sum()\n",
        "na_in_trainY = y.isna().sum()\n",
        "print(f\"Number of rows with missing values in features: {na_in_features}\")\n",
        "\n",
        "# Drop the rows with missing values.\n",
        "indices_with_nan = X.index[X.isna().any(axis=1)]\n",
        "X = X.drop(indices_with_nan)\n",
        "y = y.drop(indices_with_nan)\n",
        "\n",
        "# Divide train/test\n",
        "np.random.seed(6464)\n",
        "msk = np.random.rand(len(X)) < 0.75\n",
        "X_train = X[msk]\n",
        "X_test = X[~msk]\n",
        "y_train = y[msk]\n",
        "y_test = y[~msk]\n",
        "\n",
        "# Convert problem to binary problem\n",
        "X_train = np.array(X_train,dtype='float')\n",
        "X_test = np.array(X_test,dtype='float')\n",
        "y_train = np.array([-1 if i==0 else 1 for i in y_train.values],dtype='float')\n",
        "y_test = np.array([-1 if i==0 else 1 for i in y_test.values],dtype='float')\n",
        "\n",
        "print(f\"Shapes: X_train: {X_train.shape}, y_train: {y_train.shape}, X_test: {X_test.shape}, y_test: {y_test.shape}\")"
      ]
    },
    {
      "cell_type": "markdown",
      "id": "de607cfa",
      "metadata": {},
      "source": [
        "### Question 7.1 - Normalization of X_train and X_test"
      ]
    },
    {
      "cell_type": "markdown",
      "id": "12d5cfaa",
      "metadata": {},
      "source": [
        "### 7.1.1 - Implementing data normalization"
      ]
    },
    {
      "cell_type": "code",
      "execution_count": null,
      "id": "475547d9-ed9f-4407-8655-47f65b82d3f1",
      "metadata": {
        "id": "475547d9-ed9f-4407-8655-47f65b82d3f1"
      },
      "outputs": [
        {
          "name": "stdout",
          "output_type": "stream",
          "text": [
            "X_train shape assertion: True\n",
            "X_test shape assertion: True\n"
          ]
        }
      ],
      "source": [
        "# Normalize X_train and X_test using the statistics of X_train.\n",
        "# 1. Compute the mean and standard deviation for each feature in X_train\n",
        "# 2. Subtract the mean from each feature and divide by the standard deviation\n",
        "#    for both X_train and X_test.\n",
        "\n",
        "#YOUR CODE HERE!\n",
        "mean = np.mean(X_train, axis=0)\n",
        "std = np.std(X_train, axis=0)\n",
        "\n",
        "X_train_normalized = (X_train - mean) / std\n",
        "X_test_normalized = (X_test - mean) / std\n",
        "\n",
        "s1 = X_train_normalized.shape == X_train.shape\n",
        "s2 = X_test_normalized.shape == X_test.shape\n",
        "\n",
        "print(\"X_train shape assertion:\", s1)\n",
        "print(\"X_test shape assertion:\", s2)\n"
      ]
    },
    {
      "cell_type": "markdown",
      "id": "d42def89",
      "metadata": {},
      "source": [
        "### 7.1.2 - Why normalize with mean and standard deviation?\n",
        "The mean and standard deviation are computed from the training data because the test set is meant to simulate unseen data and should not influence the preprocessing step. Using statistics from the training data ensures that the model generalizes well, preventing data leakage and making the test data truly representative of real-world scenarios."
      ]
    },
    {
      "cell_type": "code",
      "execution_count": 6,
      "id": "45356d23-c7c0-4708-9460-d1de5ec7dff8",
      "metadata": {
        "id": "45356d23-c7c0-4708-9460-d1de5ec7dff8"
      },
      "outputs": [
        {
          "name": "stdout",
          "output_type": "stream",
          "text": [
            "Mean of first feature: 54.99074074074074\n",
            "Standard deviation of first feature: 9.077847854724455\n",
            "Mean of last feature: 0.5046296296296297\n",
            "Standard deviation of  last feature: 0.49997856607007907\n"
          ]
        }
      ],
      "source": [
        "# Print the mean and standard deviation of the first and last feature.\n",
        "\n",
        "# YOUR CODE HERE!\n",
        "print(f\"Mean of first feature: {mean[0]}\")\n",
        "print(f\"Standard deviation of first feature: {std[0]}\")\n",
        "print(f\"Mean of last feature: {mean[-1]}\")\n",
        "print(f\"Standard deviation of  last feature: {std[-1]}\")"
      ]
    },
    {
      "cell_type": "markdown",
      "id": "4769c2c1",
      "metadata": {},
      "source": [
        "### Q 7.1.3\n",
        "The mean and standard deviation of the first feature are 54.99 and 9.08, while for the last feature, they are 0.5046 and 0.49998, respectively. These values are computed from the training data to ensure consistent normalization for both training and test datasets, preventing data leakage."
      ]
    },
    {
      "cell_type": "code",
      "execution_count": 7,
      "id": "091df435-4481-48b0-a8b1-36af6fb2bd86",
      "metadata": {
        "id": "091df435-4481-48b0-a8b1-36af6fb2bd86"
      },
      "outputs": [],
      "source": [
        "# Train SVM\n",
        "\n",
        "# Complete the `trainSVM` function to find the optimal w and b that minimize\n",
        "# the primal SVM objective given in the write-up.\n",
        "# The function takes three inputs:\n",
        "# - trainX: the normalized train features with shape (#train_samples, #features)\n",
        "# - trainY: train labels with shape (#train_samples,)\n",
        "# - C: C parameter of the minimization problem\n",
        "# The function should return a three-tuple with:\n",
        "# - w: the weight vector with shape (#features,)\n",
        "# - b: the bias. A scalar with shape (1,)\n",
        "# - xi: the slack variables with shape (#train_samples,)\n",
        "\n",
        "# You can use cvxpy that we imported as cp\n",
        "# You may find cp.Variable, cp.Minimize, cp.Problem useful\n",
        "# For the problem solver, prefer the default, cp.CLARABEL\n",
        "\n",
        "def trainSVM(trainX, trainY, C):\n",
        "\n",
        "    # YOUR CODE HERE!\n",
        "    n, m = trainX.shape\n",
        "    w = cp.Variable(m)\n",
        "    b = cp.Variable()\n",
        "    xi = cp.Variable(n)\n",
        "\n",
        "    # loss = cp.sum(cp.pos(1 - cp.multiply(trainY, trainX @ w + b)) + C * xi)\n",
        "    # objective = cp.Minimize(loss)\n",
        "    objective = cp.Minimize(0.5 * cp.sum_squares(w) + C * cp.sum(xi))\n",
        "    # constraints = [xi >= 0]\n",
        "    constraints = [cp.multiply(trainY, trainX @ w + b) >= 1 - xi, xi >= 0]\n",
        "    prob = cp.Problem(objective, constraints)\n",
        "    prob.solve(solver = cp.CLARABEL)\n",
        "\n",
        "    return w.value, b.value, xi.value\n",
        "\n",
        "    "
      ]
    },
    {
      "cell_type": "markdown",
      "id": "5a7d5498",
      "metadata": {},
      "source": [
        "### 7.2 SVM Training"
      ]
    },
    {
      "cell_type": "markdown",
      "id": "b614891f",
      "metadata": {},
      "source": [
        "### 7.2.1 - Implemeting trainSVM"
      ]
    },
    {
      "cell_type": "code",
      "execution_count": 8,
      "id": "b7a59a02-10de-4e86-85d5-02b6ee833d40",
      "metadata": {
        "id": "b7a59a02-10de-4e86-85d5-02b6ee833d40"
      },
      "outputs": [
        {
          "name": "stdout",
          "output_type": "stream",
          "text": [
            "First three weights: [-0.01280085  0.51706872  0.27813637]\n",
            "Bias: 0.08109278680708337\n",
            "First three slack variables: [-1.08487196e-10 -1.07320090e-10 -1.09846811e-10]\n"
          ]
        }
      ],
      "source": [
        "# Solve SVM with C = 1 and print the first three weights, b and the first\n",
        "# three slack variables as instructed in the write-up\n",
        "\n",
        "# YOUR CODE HERE!\n",
        "w, b, xi = trainSVM(X_train_normalized, y_train, 1)\n",
        "print(f\"First three weights: {w[:3]}\")\n",
        "print(f\"Bias: {b}\")\n",
        "print(f\"First three slack variables: {xi[:3]}\")\n",
        "\n",
        "w_1 = w\n",
        "b_1 = b\n",
        "xi_1 = xi"
      ]
    },
    {
      "cell_type": "code",
      "execution_count": 9,
      "id": "1da17d11-f98f-49c5-a5c6-0f96c7d09136",
      "metadata": {
        "id": "1da17d11-f98f-49c5-a5c6-0f96c7d09136"
      },
      "outputs": [
        {
          "name": "stdout",
          "output_type": "stream",
          "text": [
            "First three weights: [3.90035347e-11 2.92283697e-11 1.90604453e-11]\n",
            "Bias: -13.492472743509481\n",
            "First three slack variables: [504.1019176  497.5850476  495.44091299]\n"
          ]
        }
      ],
      "source": [
        "# Solve SVM with C = 0 and print the first three weights, b and the first\n",
        "# three slack variables as instructed in the write-up\n",
        "\n",
        "# YOUR CODE HERE!\n",
        "w, b, xi = trainSVM(X_train_normalized, y_train, 0)\n",
        "print(f\"First three weights: {w[:3]}\")\n",
        "print(f\"Bias: {b}\")\n",
        "print(f\"First three slack variables: {xi[:3]}\")"
      ]
    },
    {
      "cell_type": "markdown",
      "id": "7bfe194c",
      "metadata": {},
      "source": [
        "### 7.2.2 \n",
        "For C = 1, the first three weights are [-0.0128, 0.5171, 0.2781], the bias is 0.0811, and the first three slack variables are nearly zero, indicating a well-regularized model. For C = 0, the weights are extremely small, the bias is -13.4925, and the high slack variables (over 495) show that many points violate the margin constraints, leading to poor classification."
      ]
    },
    {
      "cell_type": "markdown",
      "id": "52d58a06",
      "metadata": {},
      "source": [
        "### 7.2.3 - Difference between the slack variables with C = 0 and C = 1?\n",
        "\n",
        "Yes, there is a significant difference. When $C = 1$, the slack variables are nearly zero, meaning most points are correctly classified with minimal margin violations, while for $C = 0$, the slack variables are large, indicating that the model is allowing many misclassifications.  \n",
        "\n",
        "This explains why we introduce the $C \\sum \\xi_i$ term in Soft-SVM, it penalizes misclassification, ensuring a balance between maximizing the margin and minimizing classification errors.\n",
        "\n"
      ]
    },
    {
      "cell_type": "markdown",
      "id": "6f0811fd",
      "metadata": {},
      "source": [
        "### 7.3 SVM Evaluation"
      ]
    },
    {
      "cell_type": "markdown",
      "id": "d2a18130",
      "metadata": {},
      "source": [
        "### 7.3.1 - evalSVM implementation"
      ]
    },
    {
      "cell_type": "code",
      "execution_count": 10,
      "id": "b9dee83c-8926-4feb-808d-41f26e6451fd",
      "metadata": {
        "id": "b9dee83c-8926-4feb-808d-41f26e6451fd"
      },
      "outputs": [],
      "source": [
        "# Eval SVM\n",
        "\n",
        "# Write a function to evaluate the SVM model given its `w` and `b` parameters\n",
        "# on evaluation data `X_eval` and true labels `y_eval`.\n",
        "#  1. Estimate the labels of `X_eval`.\n",
        "#  2. Return the ratio of accurately estimated labels by comparing with `y_eval`.\n",
        "\n",
        "\n",
        "def evalSVM(X_eval, y_eval, w, b):\n",
        "\n",
        "    # YOUR CODE HERE!\n",
        "    y_pred = np.sign(X_eval @ w + b)\n",
        "    accuracy = np.mean(y_pred == y_eval)\n",
        "    return accuracy\n",
        "\n",
        "\n",
        "# evalSVM(X_test_normalized, y_test, w_1, b_1)"
      ]
    },
    {
      "cell_type": "code",
      "execution_count": 11,
      "id": "f14d6219-3991-45a8-bf96-1072411ee8ed",
      "metadata": {
        "id": "f14d6219-3991-45a8-bf96-1072411ee8ed"
      },
      "outputs": [
        {
          "name": "stdout",
          "output_type": "stream",
          "text": [
            "[0.0001, 0.00030000000000000003, 0.0006000000000000001, 0.001, 0.003, 0.006, 0.01, 0.03, 0.06, 0.1, 0.30000000000000004, 0.6000000000000001, 1, 3, 6, 10, 30, 60]\n",
            "[0.6144578313253012, 0.6144578313253012, 0.7590361445783133, 0.8433734939759037, 0.8554216867469879, 0.8433734939759037, 0.8433734939759037, 0.8433734939759037, 0.8433734939759037, 0.8433734939759037, 0.8433734939759037, 0.8313253012048193, 0.8313253012048193, 0.8192771084337349, 0.8192771084337349, 0.8072289156626506, 0.8072289156626506, 0.7951807228915663]\n",
            "Best C value for train set: 10, accuracy: 0.8888888888888888\n",
            "Best C value for test set: 0.003, accuracy: 0.8554216867469879\n"
          ]
        }
      ],
      "source": [
        "train_accuracies = []\n",
        "test_accuracies = []\n",
        "c_values = [a * 10 ** q for a in [1,3,6] for q in [-4, -3, -2, -1, 0, 1]]\n",
        "c_values = sorted(c_values)\n",
        "\n",
        "print(c_values)\n",
        "\n",
        "# c_values\n",
        "# For each C value given in the homework, find optimal w, b\n",
        "# values using the normalized train set. calculate the accuracy\n",
        "# on train and test sets using found w and b.\n",
        "# Save those values as we will plot them\n",
        "\n",
        "# YOUR CODE HERE!\n",
        "for c in c_values:\n",
        "    w, b, _ = trainSVM(X_train_normalized, y_train, c)\n",
        "    train_accuracies.append(evalSVM(X_train_normalized, y_train, w, b))\n",
        "    test_accuracies.append(evalSVM(X_test_normalized, y_test, w, b))\n",
        "\n",
        "print(test_accuracies)\n",
        "\n",
        "check_val_train = zip(c_values, train_accuracies)\n",
        "for val in check_val_train:\n",
        "    if val[1] == max(train_accuracies):\n",
        "        print(f\"Best C value for train set: {val[0]}, accuracy: {val[1]}\")\n",
        "        break\n",
        "\n",
        "check_val_test = zip(c_values, test_accuracies)\n",
        "for val in check_val_test:\n",
        "    if val[1] == max(test_accuracies):\n",
        "        print(f\"Best C value for test set: {val[0]}, accuracy: {val[1]}\")\n",
        "        break\n"
      ]
    },
    {
      "cell_type": "code",
      "execution_count": 12,
      "id": "d4be2eda-5961-42d4-a999-c444110b3e19",
      "metadata": {
        "id": "d4be2eda-5961-42d4-a999-c444110b3e19"
      },
      "outputs": [
        {
          "data": {
            "image/png": "[encoded data removed]",
            "text/plain": [
              "<Figure size 1200x600 with 2 Axes>"
            ]
          },
          "metadata": {},
          "output_type": "display_data"
        }
      ],
      "source": [
        "# Plotting and reporting the desired values\n",
        "\n",
        "# sort the values of c\n",
        "c_values_sorted = sorted(c_values)\n",
        "train_accuracies_sorted = [train_accuracies[i] for i in np.argsort(c_values)]\n",
        "\n",
        "fig, ax = plt.subplots(1, 2, figsize=(12, 6))\n",
        "ax[0].plot(c_values_sorted, train_accuracies_sorted, label='Train Accuracy', marker='o')  \n",
        "# ax[0].axvline(x= c_values_sorted[np.argmax(train_accuracies)], color='r', linestyle='--', label='Best C Value: {:.2e}'.format(c_values_sorted[np.argmax(train_accuracies)]))\n",
        "ax[0].axvline(x=c_values_sorted[np.argmax(train_accuracies)], color='r', linestyle='--',\n",
        "              label='Best C Value: {:.2e}, Accuracy: {:.2f}%'.format(\n",
        "                  c_values_sorted[np.argmax(train_accuracies)], \n",
        "                  train_accuracies[np.argmax(train_accuracies)] * 100))  # Convert to percentage\n",
        "# ax[0].plot(c_values, train_accuracies)\n",
        "ax[0].set_xscale('log')\n",
        "ax[0].set_xlabel('C values')\n",
        "ax[0].set_ylabel('Accuracy score')\n",
        "ax[0].legend()\n",
        "ax[0].grid()    \n",
        "ax[0].set_title('Accuracy vs C on Train Set')\n",
        "\n",
        "test_accuracies_sorted = [test_accuracies[i] for i in np.argsort(c_values)]\n",
        "ax[1].plot(c_values, test_accuracies, label='Test Accuracy', marker='o')\n",
        "# ax[1].axvline(x= c_values_sorted[np.argmax(test_accuracies)], color='r', linestyle='--', label='Best C Value: {:.2e}'.format(c_values_sorted[np.argmax(test_accuracies)]))\n",
        "ax[1].axvline(x=c_values_sorted[np.argmax(test_accuracies)], color='r', linestyle='--',\n",
        "              label='Best C Value: {:.2e}, Accuracy: {:.2f}%'.format(\n",
        "                  c_values_sorted[np.argmax(test_accuracies)], \n",
        "                  test_accuracies[np.argmax(test_accuracies)] * 100))  # Convert to percentage\n",
        "ax[1].set_xscale('log')\n",
        "ax[1].set_xlabel('C values')\n",
        "ax[1].set_ylabel('Accuracy Score')\n",
        "ax[1].legend()\n",
        "ax[1].grid()\n",
        "ax[1].set_title('Accuracy vs C on Test Set')\n",
        "\n",
        "plt.show()\n"
      ]
    },
    {
      "cell_type": "markdown",
      "id": "6aefc25f",
      "metadata": {},
      "source": [
        "### SVM Evaluation\n",
        "\n",
        "On the train data, the C value of $10$ achieved the best accuracy of $88.9\\%$ while the best C value on the test data is $0.003$ with an accuracy of $85.5\\%$"
      ]
    }
  ],
  "metadata": {
    "colab": {
      "provenance": []
    },
    "kernelspec": {
      "display_name": "jayi",
      "language": "python",
      "name": "python3"
    },
    "language_info": {
      "codemirror_mode": {
        "name": "ipython",
        "version": 3
      },
      "file_extension": ".py",
      "mimetype": "text/x-python",
      "name": "python",
      "nbconvert_exporter": "python",
      "pygments_lexer": "ipython3",
      "version": "3.11.0"
    }
  },
  "nbformat": 4,
  "nbformat_minor": 5
}
