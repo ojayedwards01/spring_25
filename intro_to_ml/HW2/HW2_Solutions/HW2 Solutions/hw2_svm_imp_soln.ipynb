{
  "cells": [
    {
      "cell_type": "code",
      "execution_count": 13,
      "id": "f1612d37-752b-4c16-ac81-e0414b9da4df",
      "metadata": {
        "colab": {
          "base_uri": "https://localhost:8080/"
        },
        "id": "f1612d37-752b-4c16-ac81-e0414b9da4df",
        "outputId": "282f389c-eb77-4b78-a3bb-8cfd238d5da3"
      },
      "outputs": [
        {
          "output_type": "stream",
          "name": "stdout",
          "text": [
            "Requirement already satisfied: ucimlrepo in /usr/local/lib/python3.11/dist-packages (0.0.7)\n",
            "Requirement already satisfied: pandas>=1.0.0 in /usr/local/lib/python3.11/dist-packages (from ucimlrepo) (2.2.2)\n",
            "Requirement already satisfied: certifi>=2020.12.5 in /usr/local/lib/python3.11/dist-packages (from ucimlrepo) (2024.12.14)\n",
            "Requirement already satisfied: numpy>=1.23.2 in /usr/local/lib/python3.11/dist-packages (from pandas>=1.0.0->ucimlrepo) (1.26.4)\n",
            "Requirement already satisfied: python-dateutil>=2.8.2 in /usr/local/lib/python3.11/dist-packages (from pandas>=1.0.0->ucimlrepo) (2.8.2)\n",
            "Requirement already satisfied: pytz>=2020.1 in /usr/local/lib/python3.11/dist-packages (from pandas>=1.0.0->ucimlrepo) (2024.2)\n",
            "Requirement already satisfied: tzdata>=2022.7 in /usr/local/lib/python3.11/dist-packages (from pandas>=1.0.0->ucimlrepo) (2025.1)\n",
            "Requirement already satisfied: six>=1.5 in /usr/local/lib/python3.11/dist-packages (from python-dateutil>=2.8.2->pandas>=1.0.0->ucimlrepo) (1.17.0)\n"
          ]
        }
      ],
      "source": [
        "!pip install ucimlrepo"
      ]
    },
    {
      "cell_type": "code",
      "execution_count": 14,
      "id": "e7917f76-cc3d-452c-a491-adb508837250",
      "metadata": {
        "id": "e7917f76-cc3d-452c-a491-adb508837250"
      },
      "outputs": [],
      "source": [
        "from ucimlrepo import fetch_ucirepo\n",
        "import pandas as pd\n",
        "import numpy as np\n",
        "import cvxpy as cp\n",
        "from matplotlib import pyplot as plt"
      ]
    },
    {
      "cell_type": "code",
      "execution_count": 15,
      "id": "4f0246b0-c964-4538-9890-73f8b580b0b4",
      "metadata": {
        "tags": [],
        "colab": {
          "base_uri": "https://localhost:8080/"
        },
        "id": "4f0246b0-c964-4538-9890-73f8b580b0b4",
        "outputId": "76eabfc6-a610-404c-ad93-644716e35a91"
      },
      "outputs": [
        {
          "output_type": "stream",
          "name": "stdout",
          "text": [
            "Number of samples in all full dataset is: 303.\n",
            "Number of rows with missing values in features: 4\n",
            "Shapes: X_train: (216, 22), y_train: (216,), X_test: (83, 22), y_test: (83,)\n"
          ]
        }
      ],
      "source": [
        "# !! DO NOT MODIFY THIS CELL !!\n",
        "\n",
        "# Download and preprocess the dataset.\n",
        "# fetch dataset\n",
        "heart_disease = fetch_ucirepo(id=45)\n",
        "X = heart_disease.data.features\n",
        "# Convert categorical features into one-hot encode\n",
        "categorical_features = ['cp','thal','slope','restecg']\n",
        "X = pd.get_dummies(X, columns=categorical_features)\n",
        "\n",
        "y = heart_disease.data.targets\n",
        "print(f\"Number of samples in all full dataset is: {len(X)}.\")\n",
        "\n",
        "# Check if our train set has missing value\n",
        "na_in_features = X.isna().any(axis=1).sum()\n",
        "na_in_trainY = y.isna().sum()\n",
        "print(f\"Number of rows with missing values in features: {na_in_features}\")\n",
        "\n",
        "# Drop the rows with missing values.\n",
        "indices_with_nan = X.index[X.isna().any(axis=1)]\n",
        "X = X.drop(indices_with_nan)\n",
        "y = y.drop(indices_with_nan)\n",
        "\n",
        "# Divide train/test\n",
        "np.random.seed(6464)\n",
        "msk = np.random.rand(len(X)) < 0.75\n",
        "X_train = X[msk]\n",
        "X_test = X[~msk]\n",
        "y_train = y[msk]\n",
        "y_test = y[~msk]\n",
        "\n",
        "# Convert problem to binary problem\n",
        "X_train = np.array(X_train,dtype='float')\n",
        "X_test = np.array(X_test,dtype='float')\n",
        "y_train = np.array([-1 if i==0 else 1 for i in y_train.values],dtype='float')\n",
        "y_test = np.array([-1 if i==0 else 1 for i in y_test.values],dtype='float')\n",
        "\n",
        "print(f\"Shapes: X_train: {X_train.shape}, y_train: {y_train.shape}, X_test: {X_test.shape}, y_test: {y_test.shape}\")"
      ]
    },
    {
      "cell_type": "code",
      "execution_count": 16,
      "id": "475547d9-ed9f-4407-8655-47f65b82d3f1",
      "metadata": {
        "id": "475547d9-ed9f-4407-8655-47f65b82d3f1"
      },
      "outputs": [],
      "source": [
        "# Normalize X_train and X_test using the statistics of X_train.\n",
        "# 1. Compute the mean and standard deviation for each feature in X_train\n",
        "# 2. Subtract the mean from each feature and divide by the standard deviation\n",
        "#    for both X_train and X_test.\n",
        "\n",
        "# Calculate the mean and std of each feature in X_train\n",
        "mean_X_train = np.mean(X_train, axis=0)\n",
        "std_X_train = np.std(X_train, axis=0)\n",
        "\n",
        "# Normalize X_train\n",
        "X_train_normalized = (X_train - mean_X_train) / std_X_train\n",
        "# Normalize X_test\n",
        "X_test_normalized = (X_test - mean_X_train) / std_X_train\n",
        "\n",
        "# You can preporcess with from-scratch code too. See below:\n",
        "# mean_X_train = [sum(X_train[:,j])/X_train.shape[0] for j in range(X_train.shape[1])]\n",
        "# std_X_train = [np.sqrt(sum((X_train[:,j]-mean_X_train[j])**2)/X_train.shape[0]) for j in range(X_train.shape[1])]\n",
        "# X_train_normalized = X_train\n",
        "# X_test_normalized = X_test\n",
        "# for j in range(X_train.shape[1]):\n",
        "#     X_train_normalized[:,j] = (X_train[:,j]-mean_X_train[j])/std_X_train[j]\n",
        "#     X_test_normalized[:,j] = (X_test[:,j]-mean_X_train[j])/std_X_train[j]"
      ]
    },
    {
      "cell_type": "code",
      "execution_count": 17,
      "id": "45356d23-c7c0-4708-9460-d1de5ec7dff8",
      "metadata": {
        "colab": {
          "base_uri": "https://localhost:8080/"
        },
        "id": "45356d23-c7c0-4708-9460-d1de5ec7dff8",
        "outputId": "90f1444d-e812-47eb-86a2-97a92b43d89d"
      },
      "outputs": [
        {
          "output_type": "stream",
          "name": "stdout",
          "text": [
            "The first feature mean: 54.99074074074074, standard deviation: 9.077847854724455\n",
            "The last feature mean: 0.5046296296296297, standard deviation: 0.49997856607007907\n"
          ]
        }
      ],
      "source": [
        "# Print the mean and standard deviation of the first and last feature.\n",
        "\n",
        "print(f\"The first feature mean: {mean_X_train[0]}, standard deviation: {std_X_train[0]}\")\n",
        "print(f\"The last feature mean: {mean_X_train[-1]}, standard deviation: {std_X_train[-1]}\")"
      ]
    },
    {
      "cell_type": "code",
      "execution_count": 18,
      "id": "091df435-4481-48b0-a8b1-36af6fb2bd86",
      "metadata": {
        "id": "091df435-4481-48b0-a8b1-36af6fb2bd86"
      },
      "outputs": [],
      "source": [
        "# Train SVM\n",
        "\n",
        "# Complete the `trainSVM` function to find the optimal w and b that minimize\n",
        "# the primal SVM objective given in the write-up.\n",
        "# The function takes three inputs:\n",
        "# - trainX: the normalized train features with shape (#train_samples, #features)\n",
        "# - trainY: train labels with shape (#train_samples,)\n",
        "# - C: C parameter of the minimization problem\n",
        "# The function should return a three-tuple with:\n",
        "# - w: the weight vector with shape (#features,)\n",
        "# - b: the bias. A scalar with shape (1,)\n",
        "# - xi: the slack variables with shape (#train_samples,)\n",
        "\n",
        "# You can use cvxpy that we imported as cp\n",
        "# You may find cp.Variable, cp.Minimize, cp.Problem useful\n",
        "# For the problem solver, prefer the default, cp.CLARABEL\n",
        "\n",
        "def trainSVM(trainX, trainY, C):\n",
        "    N, d = trainX.shape\n",
        "\n",
        "    w = cp.Variable(d)\n",
        "    b = cp.Variable()\n",
        "    xi = cp.Variable(N)\n",
        "\n",
        "    objective = cp.Minimize(0.5 * (cp.norm2(w) ** 2) + C * cp.sum(xi))\n",
        "    constraints = [\n",
        "        cp.multiply(trainY, (trainX @ w + b)) >= 1 - xi,\n",
        "        xi >= 0\n",
        "    ]\n",
        "\n",
        "    prob = cp.Problem(objective, constraints)\n",
        "    prob.solve()\n",
        "\n",
        "    return w.value, b.value, xi.value"
      ]
    },
    {
      "cell_type": "code",
      "execution_count": 19,
      "id": "b7a59a02-10de-4e86-85d5-02b6ee833d40",
      "metadata": {
        "colab": {
          "base_uri": "https://localhost:8080/"
        },
        "id": "b7a59a02-10de-4e86-85d5-02b6ee833d40",
        "outputId": "f0df422c-4333-4845-8e25-fa01b7311c9e"
      },
      "outputs": [
        {
          "output_type": "stream",
          "name": "stdout",
          "text": [
            "With C = 1, first three weights: [-0.01280084  0.51706872  0.27813637], b: 0.08109278708402816, first three slack variables: [-1.70119115e-10 -1.64395685e-10 -1.69587197e-10]\n"
          ]
        }
      ],
      "source": [
        "# Solve SVM with C = 1 and print the first three weights, b and the first\n",
        "# three slack variables as instructed in the write-up\n",
        "\n",
        "w,b,xi =trainSVM(X_train_normalized, y_train,1)\n",
        "print(f\"With C = 1, first three weights: {w[:3]}, b: {b}, first three slack variables: {xi[:3]}\")"
      ]
    },
    {
      "cell_type": "code",
      "execution_count": 20,
      "id": "1da17d11-f98f-49c5-a5c6-0f96c7d09136",
      "metadata": {
        "colab": {
          "base_uri": "https://localhost:8080/"
        },
        "id": "1da17d11-f98f-49c5-a5c6-0f96c7d09136",
        "outputId": "d9a2f51f-e8db-45b2-8930-a39fd4a40f0f"
      },
      "outputs": [
        {
          "output_type": "stream",
          "name": "stdout",
          "text": [
            "With C = 0, first three weights: [ 3.09523259e-06 -8.18802636e-06 -9.46615246e-06], b: -10.447621082517607, first three slack variables: [429.58840105 434.02071004 414.34670026]\n"
          ]
        }
      ],
      "source": [
        "# Solve SVM with C = 0 and print the first three weights, b and the first\n",
        "# three slack variables as instructed in the write-up\n",
        "\n",
        "w,b,xi =trainSVM(X_train_normalized, y_train,0)\n",
        "print(f\"With C = 0, first three weights: {w[:3]}, b: {b}, first three slack variables: {xi[:3]}\")"
      ]
    },
    {
      "cell_type": "code",
      "execution_count": 21,
      "id": "b9dee83c-8926-4feb-808d-41f26e6451fd",
      "metadata": {
        "id": "b9dee83c-8926-4feb-808d-41f26e6451fd"
      },
      "outputs": [],
      "source": [
        "# Eval SVM\n",
        "\n",
        "# Write a function to evaluate the SVM model given its `w` and `b` parameters\n",
        "# on evaluation data `X_eval` and true labels `y_eval`.\n",
        "#  1. Estimate the labels of `X_eval`.\n",
        "#  2. Return the ratio of accurately estimated labels by comparing with `y_eval`.\n",
        "\n",
        "def evalSVM(X_eval, y_eval, w, b):\n",
        "    y_pred = np.sign(X_eval @ w + b)\n",
        "    accuracy = np.mean(y_pred == y_eval)\n",
        "    return accuracy"
      ]
    },
    {
      "cell_type": "code",
      "execution_count": 22,
      "id": "f14d6219-3991-45a8-bf96-1072411ee8ed",
      "metadata": {
        "id": "f14d6219-3991-45a8-bf96-1072411ee8ed"
      },
      "outputs": [],
      "source": [
        "train_accuracies = []\n",
        "test_accuracies = []\n",
        "C_values = []\n",
        "\n",
        "# For each C value given in the homework, find optimal w, b\n",
        "# values using the normalized train set. Calculate the accuracy\n",
        "# on train and test sets using found w and b.\n",
        "# Save those values as we will plot them\n",
        "\n",
        "for i in [-4,-3,-2,-1,0,1]:\n",
        "    for j in [1,3,6]:\n",
        "        C_values.append(j*10**i)\n",
        "for C in C_values:\n",
        "    w, b, _ = trainSVM(X_train_normalized, y_train, C)\n",
        "    train_accuracies.append(evalSVM(X_train_normalized, y_train,w,b))\n",
        "    test_accuracies.append(evalSVM(X_test_normalized, y_test,w,b))"
      ]
    },
    {
      "cell_type": "code",
      "execution_count": 23,
      "id": "d4be2eda-5961-42d4-a999-c444110b3e19",
      "metadata": {
        "colab": {
          "base_uri": "https://localhost:8080/",
          "height": 442
        },
        "id": "d4be2eda-5961-42d4-a999-c444110b3e19",
        "outputId": "0ee5e9bb-3452-42df-8a97-08f3b2509acb"
      },
      "outputs": [
        {
          "output_type": "display_data",
          "data": {
            "text/plain": [
              "<Figure size 800x400 with 2 Axes>"
            ],
            "image/png": "[encoded data removed]"
          },
          "metadata": {}
        },
        {
          "output_type": "stream",
          "name": "stdout",
          "text": [
            "The maximum training accuracy is 0.8889 when C is 10.000 for training accuracy.\n",
            "The maximum test accuracy is 0.8554 when C is 0.003 for test accuracy.\n"
          ]
        }
      ],
      "source": [
        "# Plotting and reporting the desired values\n",
        "\n",
        "fig, ax = plt.subplots(1, 2, figsize=(8, 4))\n",
        "\n",
        "max_train_idx = np.argmax(train_accuracies)\n",
        "max_test_idx = np.argmax(test_accuracies)\n",
        "\n",
        "# Plot training accuracies\n",
        "ax[0].plot(C_values, train_accuracies, marker='o', linestyle='-', color='b', label='Train Accuracy')\n",
        "ax[0].plot(C_values[max_train_idx], train_accuracies[max_train_idx], marker='*', color='gold', markersize=10, label='Max Accuracy')\n",
        "ax[0].set_title('Training Accuracy vs C')\n",
        "ax[0].set_xlabel('C value')\n",
        "ax[0].set_ylabel('Accuracy')\n",
        "ax[0].legend()\n",
        "ax[0].grid(True)\n",
        "ax[0].set_xscale('log')\n",
        "\n",
        "# Plot test accuracies\n",
        "ax[1].plot(C_values, test_accuracies, marker='s', linestyle='-', color='r', label='Test Accuracy')\n",
        "ax[1].plot(C_values[max_test_idx], test_accuracies[max_test_idx], marker='*', color='gold', markersize=10, label='Max Accuracy')\n",
        "ax[1].set_title('Test Accuracy vs C')\n",
        "ax[1].set_xlabel('C value')\n",
        "ax[1].set_ylabel('Accuracy')\n",
        "ax[1].legend()\n",
        "ax[1].grid(True)\n",
        "ax[1].set_xscale('log')\n",
        "\n",
        "plt.tight_layout()\n",
        "plt.show()\n",
        "\n",
        "print(f\"The maximum training accuracy is {train_accuracies[max_train_idx]:.4f} when C is {C_values[max_train_idx]:.3f} for training accuracy.\")\n",
        "print(f\"The maximum test accuracy is {test_accuracies[max_test_idx]:.4f} when C is {C_values[max_test_idx]:.3f} for test accuracy.\")\n"
      ]
    }
  ],
  "metadata": {
    "kernelspec": {
      "display_name": "Python 3 (ipykernel)",
      "language": "python",
      "name": "python3"
    },
    "language_info": {
      "codemirror_mode": {
        "name": "ipython",
        "version": 3
      },
      "file_extension": ".py",
      "mimetype": "text/x-python",
      "name": "python",
      "nbconvert_exporter": "python",
      "pygments_lexer": "ipython3",
      "version": "3.9.13"
    },
    "colab": {
      "provenance": []
    }
  },
  "nbformat": 4,
  "nbformat_minor": 5
}